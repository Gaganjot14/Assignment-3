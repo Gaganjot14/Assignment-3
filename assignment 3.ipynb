{
 "cells": [
  {
   "cell_type": "code",
   "execution_count": 21,
   "id": "85bc47a2-db79-491c-842b-6b2f1ce92249",
   "metadata": {},
   "outputs": [],
   "source": [
    "#question 1:\n",
    "#The def keyword is used to create a function"
   ]
  },
  {
   "cell_type": "code",
   "execution_count": 22,
   "id": "fd6e6842-f82d-4494-a551-a71d79242fa1",
   "metadata": {},
   "outputs": [],
   "source": [
    "l=range(1,25)"
   ]
  },
  {
   "cell_type": "code",
   "execution_count": 23,
   "id": "9ec3038d-2fa9-4c58-aaac-a90111453e0b",
   "metadata": {},
   "outputs": [],
   "source": [
    "def test1(l):\n",
    "    l1=[]\n",
    "    for i in l:\n",
    "        if i%2!= 0:\n",
    "            l1.append(i)\n",
    "    return l1"
   ]
  },
  {
   "cell_type": "code",
   "execution_count": 24,
   "id": "d20a729f-3c5a-487c-b35f-fca9d8c0e625",
   "metadata": {},
   "outputs": [
    {
     "data": {
      "text/plain": [
       "[1, 3, 5, 7, 9, 11, 13, 15, 17, 19, 21, 23]"
      ]
     },
     "execution_count": 24,
     "metadata": {},
     "output_type": "execute_result"
    }
   ],
   "source": [
    "test1(l)"
   ]
  },
  {
   "cell_type": "code",
   "execution_count": 25,
   "id": "3c0ce19f-6c67-4e0b-b77d-752dc4037035",
   "metadata": {},
   "outputs": [],
   "source": [
    "# question 2:\n",
    "# (i) * args: Here the * is the main the part it is used in a function so that we can put variable no. of non keyword arguments it makes the function more useable.\n",
    "# (ii) **kwargs : This is used in only dictionary  which also allows to pass variable no. of non keyword arguments.\n"
   ]
  },
  {
   "cell_type": "code",
   "execution_count": 26,
   "id": "0cd2f539-39c4-4e2d-b5cb-9c353b6aae0f",
   "metadata": {},
   "outputs": [],
   "source": [
    "#(i) *args\n",
    "def test2(*args):\n",
    "    return args"
   ]
  },
  {
   "cell_type": "code",
   "execution_count": 27,
   "id": "fab93f06-e2d5-40d4-b754-324277cb36d0",
   "metadata": {},
   "outputs": [
    {
     "data": {
      "text/plain": [
       "(1, 2, 3, 4, 5, 67, 8, 7)"
      ]
     },
     "execution_count": 27,
     "metadata": {},
     "output_type": "execute_result"
    }
   ],
   "source": [
    "test2(1,2,3,4,5,67,8,7)"
   ]
  },
  {
   "cell_type": "code",
   "execution_count": 28,
   "id": "7387e1da-a82b-4367-895c-165248b5be4a",
   "metadata": {},
   "outputs": [],
   "source": [
    "#(ii) **kwargs\n",
    "def position_in_class(**kwargs):\n",
    "    return kwargs"
   ]
  },
  {
   "cell_type": "code",
   "execution_count": 29,
   "id": "422cac06-f4c9-4e04-b17a-1cc3c1ded7e7",
   "metadata": {},
   "outputs": [
    {
     "data": {
      "text/plain": [
       "{'first': 'gagan', 'second': 'harpreet', 'third': 'anchal'}"
      ]
     },
     "execution_count": 29,
     "metadata": {},
     "output_type": "execute_result"
    }
   ],
   "source": [
    "position_in_class(first='gagan',second='harpreet',third='anchal')"
   ]
  },
  {
   "cell_type": "code",
   "execution_count": 30,
   "id": "e95f8529-7f37-4ea5-b99f-7732efcd175f",
   "metadata": {},
   "outputs": [],
   "source": [
    "#question 3:\n",
    "# iterator : is in which we can take out the data from iterable by using next.\n",
    "# The method used to initialise the iterator is iter() .\n",
    "# The method used for iteration is next() ."
   ]
  },
  {
   "cell_type": "code",
   "execution_count": 31,
   "id": "69a78a97-a018-4400-ad24-8e68daf6d810",
   "metadata": {},
   "outputs": [],
   "source": [
    "l1=[2,4,6,8,10,12,14,16,18,20]"
   ]
  },
  {
   "cell_type": "code",
   "execution_count": 32,
   "id": "aea65f21-4127-46ea-ac77-8ce1b2fe5cdf",
   "metadata": {},
   "outputs": [],
   "source": [
    "l2=iter(l1)"
   ]
  },
  {
   "cell_type": "code",
   "execution_count": 33,
   "id": "d6eb6805-9c0a-48ec-86ad-5cd129dbcf46",
   "metadata": {},
   "outputs": [
    {
     "data": {
      "text/plain": [
       "2"
      ]
     },
     "execution_count": 33,
     "metadata": {},
     "output_type": "execute_result"
    }
   ],
   "source": [
    "next(l2)"
   ]
  },
  {
   "cell_type": "code",
   "execution_count": 34,
   "id": "4ffe9d83-1741-4e36-bcde-533fd0ad1cb8",
   "metadata": {},
   "outputs": [
    {
     "data": {
      "text/plain": [
       "4"
      ]
     },
     "execution_count": 34,
     "metadata": {},
     "output_type": "execute_result"
    }
   ],
   "source": [
    "next(l2)"
   ]
  },
  {
   "cell_type": "code",
   "execution_count": 35,
   "id": "90a15fbc-3bde-4a91-9c05-eb41b626a54a",
   "metadata": {},
   "outputs": [
    {
     "data": {
      "text/plain": [
       "6"
      ]
     },
     "execution_count": 35,
     "metadata": {},
     "output_type": "execute_result"
    }
   ],
   "source": [
    "next(l2)"
   ]
  },
  {
   "cell_type": "code",
   "execution_count": 36,
   "id": "6b57e5d1-7b6a-489e-ad11-32dd84c042aa",
   "metadata": {},
   "outputs": [
    {
     "data": {
      "text/plain": [
       "8"
      ]
     },
     "execution_count": 36,
     "metadata": {},
     "output_type": "execute_result"
    }
   ],
   "source": [
    "next(l2)"
   ]
  },
  {
   "cell_type": "code",
   "execution_count": 37,
   "id": "56741378-46f3-42ef-a9d6-90ace332622b",
   "metadata": {},
   "outputs": [
    {
     "data": {
      "text/plain": [
       "10"
      ]
     },
     "execution_count": 37,
     "metadata": {},
     "output_type": "execute_result"
    }
   ],
   "source": [
    "next(l2)"
   ]
  },
  {
   "cell_type": "code",
   "execution_count": 38,
   "id": "a19da53b-0709-4fd2-aeed-10fd1e78064e",
   "metadata": {},
   "outputs": [],
   "source": [
    "#question4:\n",
    "#Generator Function is a function that returns an iterator .It is useful when we want to produce a large sequence of values but we don't want to store all of them in the memory at once.\n",
    "# yield is used to control the flow of generator function and it is almost similiar to return statement which is also used for returning values.\n"
   ]
  },
  {
   "cell_type": "code",
   "execution_count": 39,
   "id": "7043d424-997e-41ed-bde7-7fa286dd2601",
   "metadata": {},
   "outputs": [],
   "source": [
    "def test(a,b,c):\n",
    "    a=b+c\n",
    "    yield a\n",
    "    "
   ]
  },
  {
   "cell_type": "code",
   "execution_count": 40,
   "id": "88f898ba-a1a3-4f1f-947d-76747ba786fc",
   "metadata": {},
   "outputs": [
    {
     "name": "stdout",
     "output_type": "stream",
     "text": [
      "9\n"
     ]
    }
   ],
   "source": [
    "for i in test(3,4,5):\n",
    "    print(i)"
   ]
  },
  {
   "cell_type": "code",
   "execution_count": 41,
   "id": "430079b2-20fb-4235-8887-40ca4b1925e9",
   "metadata": {},
   "outputs": [
    {
     "data": {
      "text/plain": [
       "'what is a prime number : a number that is only divisible by 1 and itself\\n2,3,5,7and so on are  prime numbers but 1,4,6,8and so on are not prime numbers'"
      ]
     },
     "execution_count": 41,
     "metadata": {},
     "output_type": "execute_result"
    }
   ],
   "source": [
    "'''what is a prime number : a number that is only divisible by 1 and itself\n",
    "2,3,5,7and so on are  prime numbers but 1,4,6,8and so on are not prime numbers'''"
   ]
  },
  {
   "cell_type": "code",
   "execution_count": 42,
   "id": "95af1cda-7760-4589-a517-c8478f6d123b",
   "metadata": {},
   "outputs": [],
   "source": [
    "#question5:\n",
    "#prime number function\n",
    "def prime(num):\n",
    "    if num<2:\n",
    "        return False\n",
    "    for i in range (2,int(num**0.5)+1):\n",
    "        if num%i==0:\n",
    "            return False\n",
    "    return True\n"
   ]
  },
  {
   "cell_type": "code",
   "execution_count": 43,
   "id": "eea85956-a409-4b6d-88c7-1999e53d5293",
   "metadata": {},
   "outputs": [],
   "source": [
    "#prime number generator for less than 1000\n",
    "def prime_generator():\n",
    "    for i in range(1000):\n",
    "        if prime(i):\n",
    "            yield i"
   ]
  },
  {
   "cell_type": "code",
   "execution_count": 44,
   "id": "cc5097b4-1270-4055-8290-688cf3a45ee7",
   "metadata": {},
   "outputs": [
    {
     "data": {
      "text/plain": [
       "[2, 3, 5, 7, 11, 13, 17, 19, 23, 29, 31, 37, 41, 43, 47, 53, 59, 61, 67, 71]"
      ]
     },
     "execution_count": 44,
     "metadata": {},
     "output_type": "execute_result"
    }
   ],
   "source": [
    "#list of first 20 prime number\n",
    "prime_num = prime_generator()\n",
    "\n",
    "[next(prime_num)for i in range(20)]"
   ]
  },
  {
   "cell_type": "code",
   "execution_count": 47,
   "id": "6fc7ff4c-fd73-4f13-b5da-30c042be8f9a",
   "metadata": {},
   "outputs": [
    {
     "name": "stdout",
     "output_type": "stream",
     "text": [
      "0\n",
      "1\n",
      "1\n",
      "2\n",
      "3\n",
      "5\n",
      "8\n",
      "13\n",
      "21\n",
      "34\n"
     ]
    }
   ],
   "source": [
    "#qustion 6:\n",
    "a,b=0,1\n",
    "count=0\n",
    "while count<10:\n",
    "    print(a)\n",
    "    a,b=b,a+b\n",
    "    count +=1\n",
    "    "
   ]
  },
  {
   "cell_type": "code",
   "execution_count": 48,
   "id": "10c42534-1764-4d99-b98a-0a831bdb582d",
   "metadata": {},
   "outputs": [],
   "source": [
    "#question7:\n",
    "s='pwskills'\n",
    "    "
   ]
  },
  {
   "cell_type": "code",
   "execution_count": 58,
   "id": "7a631e6c-1c03-4209-be92-b2c1e14564ca",
   "metadata": {},
   "outputs": [],
   "source": [
    "lst_comp=lambda s: iter(s)"
   ]
  },
  {
   "cell_type": "code",
   "execution_count": 61,
   "id": "21fa4210-224c-4505-a49b-e78ea7f1939a",
   "metadata": {},
   "outputs": [
    {
     "data": {
      "text/plain": [
       "['p', 'w', 's', 'k', 'i', 'l', 'l', 's']"
      ]
     },
     "execution_count": 61,
     "metadata": {},
     "output_type": "execute_result"
    }
   ],
   "source": [
    "list(lst_comp(s))"
   ]
  },
  {
   "cell_type": "code",
   "execution_count": 63,
   "id": "ee77e47e-b7f8-44d1-9f12-31e4436b857f",
   "metadata": {},
   "outputs": [],
   "source": [
    "#question8:\n",
    "#palindrome is a number or string which is same after a reverse "
   ]
  },
  {
   "cell_type": "code",
   "execution_count": 74,
   "id": "7f9dcef8-5126-4b2b-b587-4c96277cd967",
   "metadata": {},
   "outputs": [
    {
     "name": "stdin",
     "output_type": "stream",
     "text": [
      "enter any number 121\n"
     ]
    },
    {
     "name": "stdout",
     "output_type": "stream",
     "text": [
      "the number is pallidrone\n"
     ]
    }
   ],
   "source": [
    "num=int(input('enter any number'))\n",
    "temp=num\n",
    "rev=0\n",
    "while(num>0):\n",
    "        dig=num%10\n",
    "        rev=rev*10+dig\n",
    "        num=num//10\n",
    "if (temp==rev):\n",
    "    print('the number is pallidrone')\n",
    "else:\n",
    "    print('the num is not pallidrone')"
   ]
  },
  {
   "cell_type": "code",
   "execution_count": 79,
   "id": "c21d0373-68e9-4463-bd7f-0097ae8ba1ee",
   "metadata": {},
   "outputs": [],
   "source": [
    "#question9\n",
    "lst=[y for y in range(1,100)]"
   ]
  },
  {
   "cell_type": "code",
   "execution_count": 80,
   "id": "d3b94b8a-3aba-48b2-a0cd-56b5a0463385",
   "metadata": {},
   "outputs": [
    {
     "data": {
      "text/plain": [
       "[1,\n",
       " 3,\n",
       " 5,\n",
       " 7,\n",
       " 9,\n",
       " 11,\n",
       " 13,\n",
       " 15,\n",
       " 17,\n",
       " 19,\n",
       " 21,\n",
       " 23,\n",
       " 25,\n",
       " 27,\n",
       " 29,\n",
       " 31,\n",
       " 33,\n",
       " 35,\n",
       " 37,\n",
       " 39,\n",
       " 41,\n",
       " 43,\n",
       " 45,\n",
       " 47,\n",
       " 49,\n",
       " 51,\n",
       " 53,\n",
       " 55,\n",
       " 57,\n",
       " 59,\n",
       " 61,\n",
       " 63,\n",
       " 65,\n",
       " 67,\n",
       " 69,\n",
       " 71,\n",
       " 73,\n",
       " 75,\n",
       " 77,\n",
       " 79,\n",
       " 81,\n",
       " 83,\n",
       " 85,\n",
       " 87,\n",
       " 89,\n",
       " 91,\n",
       " 93,\n",
       " 95,\n",
       " 97,\n",
       " 99]"
      ]
     },
     "execution_count": 80,
     "metadata": {},
     "output_type": "execute_result"
    }
   ],
   "source": [
    "list(filter(lambda x: (x%2!=0),lst))"
   ]
  },
  {
   "cell_type": "code",
   "execution_count": null,
   "id": "af1effba-d357-4e1f-b22f-93d6ace777c4",
   "metadata": {},
   "outputs": [],
   "source": []
  }
 ],
 "metadata": {
  "kernelspec": {
   "display_name": "Python 3 (ipykernel)",
   "language": "python",
   "name": "python3"
  },
  "language_info": {
   "codemirror_mode": {
    "name": "ipython",
    "version": 3
   },
   "file_extension": ".py",
   "mimetype": "text/x-python",
   "name": "python",
   "nbconvert_exporter": "python",
   "pygments_lexer": "ipython3",
   "version": "3.10.8"
  }
 },
 "nbformat": 4,
 "nbformat_minor": 5
}
